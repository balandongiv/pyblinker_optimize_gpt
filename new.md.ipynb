{
 "cells": [
  {
   "cell_type": "code",
   "execution_count": null,
   "id": "initial_id",
   "metadata": {
    "collapsed": true
   },
   "outputs": [],
   "source": [
    ""
   ]
  },
  {
   "metadata": {},
   "cell_type": "markdown",
   "source": [
    "the file\n",
    "\n",
    "annotation from cvat\n",
    "\n",
    "C:\\Users\\balan\\OneDrive - ums.edu.my\\CVAT_visual_annotation\\cvat_zip_final\\S1\\from_cvat\\S01_20170519_043933.zip\\annotations\\default-annotations-human-imagelabels.csv\n",
    "\n",
    "\n",
    "The S01_20170519_043933 is the video name, and the csv file is the annotation for that video.\n",
    "The csv file contains the following columns:\n",
    "ImageID\tSource\tLabelName\tConfidence\n",
    "\n",
    "\n",
    "and contains the following data, for example:\n",
    "\n",
    "frame_000358\t\tHB_CL_left_start\t1\n",
    "frame_000361\t\tHB_CL_min\t1\n",
    "frame_000366\t\tHB_CL_right_end\t1\n",
    "frame_000370\t\tHB_CL_left_start\t1\n",
    "frame_000372\t\tHB_CL_min\t1\n",
    "frame_000376\t\tHB_CL_right_end\t1\n",
    "frame_001079\t\tHB_CL_left_start\t1\n",
    "frame_001082\t\tHB_CL_min\t1\n",
    "\n",
    "\n",
    "note that, the Source column is empty, and the ImageID column contains the frame number, LabelName contains the label name, and Confidence column contains the confidence value, which is always 1 in this case.\n",
    "\n",
    "in the LabelName, im interested with label that end with _min, this indicate the lowest point of blink event."
   ],
   "id": "878e11bcce34c907"
  }
 ],
 "metadata": {
  "kernelspec": {
   "display_name": "Python 3",
   "language": "python",
   "name": "python3"
  },
  "language_info": {
   "codemirror_mode": {
    "name": "ipython",
    "version": 2
   },
   "file_extension": ".py",
   "mimetype": "text/x-python",
   "name": "python",
   "nbconvert_exporter": "python",
   "pygments_lexer": "ipython2",
   "version": "2.7.6"
  }
 },
 "nbformat": 4,
 "nbformat_minor": 5
}
