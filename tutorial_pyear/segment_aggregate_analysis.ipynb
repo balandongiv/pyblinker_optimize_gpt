{
 "cells": [
  {
   "cell_type": "markdown",
   "metadata": {},
   "source": [
    "# Segment-Level Aggregate Analysis\n",
    "\n",
    "This tutorial shows how to compute blink properties and signal features for each 30-second segment of a raw `.fif` file.g\n",
    "Each code line is explained in comments so you can adapt the steps to your own data."
   ],
   "id": "6b480ff549fcac5a"
  },
  {
   "cell_type": "markdown",
   "metadata": {},
   "source": [
    "## Input and output overview\n",
    "\n",
    "This notebook expects a `mne.io.Raw` instance loaded from a FIF file. It produces several tables:\n",
    "- **blink_df**: blink events per segment with columns `seg_id`, `blink_id`, `start_blink`, `max_blink`, `end_blink`, `outer_start`, `outer_end`, `left_zero`, `right_zero`.\n",
    "- **blink_props**: properties for each blink derived from the raw signal.\n",
    "- **agg_props**: average of all numeric blink properties per segment.\n",
    "- **df_features**: frequency, energy and waveform features per segment.\n",
    "- **df_combined**: merge of `agg_props` with `df_features`.\n"
   ],
   "id": "ec913335372e14cb"
  },
  {
   "cell_type": "code",
   "execution_count": null,
   "metadata": {},
   "outputs": [],
   "source": [
    "from pathlib import Path  # filesystem path management\n",
    "import mne  # reading EEG/EOG/EAR data from .fif files\n",
    "import pandas as pd  # table handling\n",
    "\n",
    "# preprocessing helper: slices raw into 30 s segments and refines blink markers\n",
    "from pyblinkers.utils.raw_preprocessing import prepare_refined_segments\n",
    "# build DataFrame of blinks from segments\n",
    "from pyblinkers.features.blink_events import generate_blink_dataframe\n",
    "# per-blink property extraction\n",
    "from pyblinkers.segment_blink_properties import compute_segment_blink_properties\n",
    "# high level feature aggregation\n",
    "from pyblinkers.pipeline import extract_features\n",
    "# time-domain energy and complexity metrics\n",
    "from pyblinkers.features.energy_complexity import compute_time_domain_features\n",
    "# frequency-domain metrics for a single segment\n",
    "from pyblinkers.features.frequency_domain import compute_frequency_domain_features\n"
   ],
   "id": "8f516fb6b7127a51"
  },
  {
   "cell_type": "markdown",
   "metadata": {},
   "source": [
    "### Synthetic data for development\n",
    "\n",
    "The `unitest.fixtures` package includes helpers to generate a small mock recording and refined blink list."
   ],
   "id": "65503d2a51d31452"
  },
  {
   "cell_type": "code",
   "metadata": {},
   "execution_count": null,
   "outputs": [],
   "source": [
    "from unitest.fixtures.mock_raw_generation import generate_mock_raw\n",
    "from unitest.fixtures.mock_ear_generation import _generate_refined_ear\n",
    "\n",
    "# Create a Raw object with blink annotations\n",
    "synthetic_raw = generate_mock_raw()\n",
    "# Segments and refined blink annotations\n",
    "synthetic_segments, synthetic_refined = prepare_refined_segments(synthetic_raw, channel=\"EOG\")\n",
    "\n",
    "# Or directly obtain a refined blink list\n",
    "synthetic_blinks, syn_sfreq, syn_epoch_len, syn_n_epochs = _generate_refined_ear()"
   ],
   "id": "d792578ae1b9b41e"
  },
  {
   "cell_type": "markdown",
   "metadata": {},
   "source": [
    "## 1. Load the raw recording"
   ],
   "id": "c9848fe8ba7e5831"
  },
  {
   "cell_type": "code",
   "execution_count": null,
   "metadata": {},
   "outputs": [],
   "source": [
    "fif_path = Path('path/to/your_file.fif')  # path to your .fif data\n",
    "raw = mne.io.read_raw_fif(fif_path, preload=False)  # read without loading all data into memory\n",
    "print(f'Sampling rate: {raw.info[\"sfreq\"]} Hz')  # display sampling frequency"
   ],
   "id": "c5d75fb7a366d508"
  },
  {
   "cell_type": "markdown",
   "metadata": {},
   "source": [
    "## 2. Segment the recording and refine blink annotations"
   ],
   "id": "73c62c957c6280e4"
  },
  {
   "cell_type": "code",
   "execution_count": null,
   "metadata": {},
   "outputs": [],
   "source": [
    "segments, refined_blinks = prepare_refined_segments(raw, channel='EEG-E8')  # 30 s slices and refined blink timings\n",
    "print(f'Generated {len(segments)} segments')  # confirm segment count"
   ],
   "id": "a57b0e53d5b06407"
  },
  {
   "cell_type": "markdown",
   "metadata": {},
   "source": [
    "## 3. Build a blink table from the segments"
   ],
   "id": "71939e7cbec7c079"
  },
  {
   "cell_type": "code",
   "execution_count": null,
   "metadata": {},
   "outputs": [],
   "source": [
    "blink_df = generate_blink_dataframe(segments, channel='EEG-E8')  # convert annotations to a DataFrame\n",
    "blink_df.head()  # preview"
   ],
   "id": "2625566ca2e906f3"
  },
  {
   "cell_type": "markdown",
   "metadata": {},
   "source": [
    "`blink_df` columns:\n",
    "- `seg_id`: index of the segment.\n",
    "- `blink_id`: order of the blink in that segment.\n",
    "- `start_blink`, `max_blink`, `end_blink`: sample indices for start, peak and end.\n",
    "- `outer_start`, `outer_end`: search bounds used for detection.\n",
    "- `left_zero`, `right_zero`: zero-crossing frames."
   ],
   "id": "56a81e2c9ee8979c"
  },
  {
   "cell_type": "markdown",
   "metadata": {},
   "source": [
    "## 4. Compute blink properties for each blink"
   ],
   "id": "53aaf7908221c755"
  },
  {
   "cell_type": "code",
   "execution_count": null,
   "metadata": {},
   "outputs": [],
   "source": [
    "params = {  # parameters used by the blink property extraction\n",
    "    'base_fraction': 0.5,\n",
    "    'shut_amp_fraction': 0.9,\n",
    "    'p_avr_threshold': 3,\n",
    "    'z_thresholds': [[0.9, 0.98], [2.0, 5.0]]\n",
    "}\n",
    "blink_props = compute_segment_blink_properties(\n",
    "    segments, blink_df, params, channel='EEG-E8', run_fit=False\n",
    ")  # one row per blink with many properties\n",
    "blink_props.head()"
   ],
   "id": "1bf091313c5124fa"
  },
  {
   "cell_type": "markdown",
   "metadata": {},
   "source": [
    "`blink_props` adds features like `closing_time_base`, `reopening_time_base`, `time_shut_base`, `peak_time_blink` and `inter_blink_max_amp` for each blink."
   ],
   "id": "1b4799d87c8a090f"
  },
  {
   "cell_type": "markdown",
   "metadata": {},
   "source": [
    "## 5. Aggregate blink properties per segment"
   ],
   "id": "615325392df922da"
  },
  {
   "cell_type": "code",
   "execution_count": null,
   "metadata": {},
   "outputs": [],
   "source": [
    "agg_props = (\n",
    "    blink_props.groupby('seg_id').mean(numeric_only=True)  # average across blinks\n",
    "    .add_suffix('_mean')\n",
    "    .reset_index()\n",
    ")\n",
    "agg_props.head()"
   ],
   "id": "dc24c9444bf2436e"
  },
  {
   "cell_type": "markdown",
   "metadata": {},
   "source": [
    "`agg_props` averages the numeric columns of `blink_props` for each `seg_id` and appends `_mean` to the names."
   ],
   "id": "da58e0cae61c92a4"
  },
  {
   "cell_type": "markdown",
   "metadata": {},
   "source": [
    "## 6. Extract aggregated features with the pipeline"
   ],
   "id": "929db9aa2a7619f7"
  },
  {
   "cell_type": "code",
   "execution_count": null,
   "metadata": {},
   "outputs": [],
   "source": [
    "sfreq = raw.info['sfreq']  # sampling frequency\n",
    "epoch_len = 30.0  # segment length\n",
    "n_epochs = len(segments)  # total segments\n",
    "selected = ['waveform', 'frequency', 'energy']  # feature groups to compute\n",
    "df_features = extract_features(\n",
    "    refined_blinks, sfreq, epoch_len, n_epochs,\n",
    "    features=selected, raw_segments=segments\n",
    ")  # DataFrame indexed by epoch\n",
    "df_features.head()"
   ],
   "id": "2a35b7f66249303d"
  },
  {
   "cell_type": "markdown",
   "metadata": {},
   "source": [
    "`df_features` holds frequency, energy and waveform metrics indexed by the `epoch` column."
   ],
   "id": "610c157b0eb0134b"
  },
  {
   "cell_type": "markdown",
   "metadata": {},
   "source": [
    "## 7. Combine blink properties with other features"
   ],
   "id": "c0d76a7a2937f8ae"
  },
  {
   "cell_type": "code",
   "execution_count": null,
   "metadata": {},
   "outputs": [],
   "source": [
    "df_combined = pd.merge(\n",
    "    df_features.reset_index(), agg_props,\n",
    "    left_on='epoch', right_on='seg_id', how='left'\n",
    ")  # join on segment index\n",
    "df_combined.head()"
   ],
   "id": "f5baa6db9baacc3d"
  },
  {
   "cell_type": "markdown",
   "metadata": {},
   "source": [
    "`df_combined` merges `agg_props` with `df_features` so each row summarizes one segment."
   ],
   "id": "3f192b793646e03a"
  },
  {
   "cell_type": "markdown",
   "metadata": {},
   "source": [
    "## 8. Signal features for all EEG/EOG/EAR channels",
    "\n",
    "> **Warning**: make sure all channels are referenced consistently before comparisons."
   ],
   "id": "90259deb723bd87d"
  },
  {
   "cell_type": "code",
   "execution_count": null,
   "metadata": {},
   "outputs": [],
   "source": [
    "channels = [ch for ch in raw.ch_names if ch.startswith(('EEG', 'EOG', 'EAR'))]  # select channel types\n",
    "records = []  # container for results\n",
    "for ch in channels:  # iterate channels\n",
    "    for idx, seg in enumerate(segments):  # each segment\n",
    "        signal = seg.get_data(picks=ch)[0]  # 1D signal\n",
    "        time_feats = compute_time_domain_features(signal, sfreq)  # energy + complexity\n",
    "        freq_feats = compute_frequency_domain_features([], signal, sfreq)  # spectral metrics\n",
    "        record = {'channel': ch, 'segment_index': idx}  # base info\n",
    "        record.update(time_feats)\n",
    "        record.update(freq_feats)\n",
    "        records.append(record)\n",
    "df_segments = pd.DataFrame(records)  # final table\n",
    "df_segments.head()"
   ],
   "id": "82b97e73f8d8de48"
  },
  {
   "cell_type": "markdown",
   "metadata": {},
   "source": [
    "`df_segments` lists per-channel metrics with columns `channel` and `segment_index`."
   ],
   "id": "cdba230c77c5d696"
  }
 ],
 "metadata": {
  "kernelspec": {
   "display_name": "Python 3",
   "language": "python",
   "name": "python3"
  },
  "language_info": {
   "name": "python"
  }
 },
 "nbformat": 4,
 "nbformat_minor": 5
}
