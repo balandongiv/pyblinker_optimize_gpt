{
 "cells": [
  {
   "cell_type": "markdown",
   "metadata": {},
   "source": [
    "# Blink Features from MNE Epochs\n",
    "\n",
    "This notebook shows how to compute blink features every 30 seconds when your data is already segmented into `mne.Epochs`. We still rely on the sample `ear_eog.fif` file."
   ],
   "id": "94af4ff98d24b957"
  },
  {
   "cell_type": "code",
   "metadata": {
    "ExecuteTime": {
     "end_time": "2025-07-10T05:56:33.260861Z",
     "start_time": "2025-07-10T05:56:31.630203Z"
    }
   },
   "source": [
    "from pathlib import Path\n",
    "import mne\n",
    "from tqdm import tqdm\n",
    "\n",
    "from pyblinkers.pipeline import extract_features"
   ],
   "id": "a0ea458c0ca2f7cb",
   "outputs": [],
   "execution_count": 1
  },
  {
   "cell_type": "markdown",
   "metadata": {},
   "source": [
    "## 1. Create Epochs from the raw recording"
   ],
   "id": "fc579658d23261f8"
  },
  {
   "metadata": {
    "ExecuteTime": {
     "end_time": "2025-07-10T05:56:35.947037Z",
     "start_time": "2025-07-10T05:56:35.847897Z"
    }
   },
   "cell_type": "code",
   "source": [
    "fif_path = Path(\"../unit_test/features/ear_eog_raw.fif\")\n",
    "raw = mne.io.read_raw_fif(fif_path, preload=True)\n",
    "events = mne.make_fixed_length_events(raw, id=1, duration=30.0)\n",
    "epochs = mne.Epochs(raw, events, tmin=0.0, tmax=30.0 - 1.0 / raw.info[\"sfreq\"], baseline=None, preload=True)"
   ],
   "id": "b95a68dc8053af6f",
   "outputs": [
    {
     "name": "stdout",
     "output_type": "stream",
     "text": [
      "Opening raw data file ..\\unit_test\\features\\ear_eog_raw.fif...\n",
      "    Reading extended channel information\n",
      "    Range : 0 ... 179822 =      0.000 ...  1798.220 secs\n",
      "Ready.\n",
      "Reading 0 ... 179822  =      0.000 ...  1798.220 secs...\n",
      "Not setting metadata\n",
      "59 matching events found\n",
      "No baseline correction applied\n",
      "0 projection items activated\n",
      "Using data from preloaded Raw for 59 events and 3000 original time points ...\n",
      "0 bad epochs dropped\n"
     ]
    }
   ],
   "execution_count": 2
  },
  {
   "cell_type": "markdown",
   "metadata": {},
   "source": [
    "## 2. Convert blink annotations to dictionaries"
   ],
   "id": "93b7cd19fb029e85"
  },
  {
   "cell_type": "code",
   "metadata": {
    "ExecuteTime": {
     "end_time": "2025-07-10T05:57:49.434619Z",
     "start_time": "2025-07-10T05:57:49.409555Z"
    }
   },
   "source": [
    "sfreq = raw.info[\"sfreq\"]\n",
    "epoch_len = 30.0\n",
    "n_epochs = len(epochs)\n",
    "ann = raw.annotations\n",
    "blinks = []\n",
    "start_times = epochs.events[:, 0] / sfreq + epochs.tmin\n",
    "for idx, start in enumerate(start_times):\n",
    "    stop = start + epoch_len\n",
    "    signal = epochs.get_data(picks=\"EAR-avg_ear\")[idx, 0]\n",
    "    for onset, dur, desc in zip(ann.onset, ann.duration, ann.description):\n",
    "        if desc != 'blink':\n",
    "            continue\n",
    "        if onset >= start and onset + dur <= stop:\n",
    "            s = int((onset - start) * sfreq)\n",
    "            e = int((onset + dur - start) * sfreq)\n",
    "            blinks.append({'refined_start_frame': s,\n",
    "                           'refined_peak_frame': (s + e) // 2,\n",
    "                           'refined_end_frame': e,\n",
    "                           'epoch_signal': signal,\n",
    "                           'epoch_index': idx})"
   ],
   "id": "c66215a387d6e921",
   "outputs": [],
   "execution_count": 5
  },
  {
   "cell_type": "markdown",
   "metadata": {},
   "source": [
    "## 3. Compute features"
   ],
   "id": "8f6c5852f8e12b1f"
  },
  {
   "cell_type": "code",
   "metadata": {
    "ExecuteTime": {
     "end_time": "2025-07-10T05:57:58.943552Z",
     "start_time": "2025-07-10T05:57:58.912783Z"
    }
   },
   "source": [
    "df = extract_features(blinks, sfreq, epoch_len, n_epochs)\n",
    "df.head()"
   ],
   "id": "7ed66e978236840d",
   "outputs": [
    {
     "ename": "ValueError",
     "evalue": "raw_segments must be provided when blink_interval_dist is requested",
     "output_type": "error",
     "traceback": [
      "\u001B[31m---------------------------------------------------------------------------\u001B[39m",
      "\u001B[31mValueError\u001B[39m                                Traceback (most recent call last)",
      "\u001B[36mCell\u001B[39m\u001B[36m \u001B[39m\u001B[32mIn[6]\u001B[39m\u001B[32m, line 1\u001B[39m\n\u001B[32m----> \u001B[39m\u001B[32m1\u001B[39m df = \u001B[43mextract_features\u001B[49m\u001B[43m(\u001B[49m\u001B[43mblinks\u001B[49m\u001B[43m,\u001B[49m\u001B[43m \u001B[49m\u001B[43msfreq\u001B[49m\u001B[43m,\u001B[49m\u001B[43m \u001B[49m\u001B[43mepoch_len\u001B[49m\u001B[43m,\u001B[49m\u001B[43m \u001B[49m\u001B[43mn_epochs\u001B[49m\u001B[43m)\u001B[49m\n\u001B[32m      2\u001B[39m df.head()\n",
      "\u001B[36mFile \u001B[39m\u001B[32m~\\IdeaProjects\\pyblinker_optimize_gpt\\pyblinkers\\pipeline.py:77\u001B[39m, in \u001B[36mextract_features\u001B[39m\u001B[34m(blinks, sfreq, epoch_len, n_epochs, features, raw_segments)\u001B[39m\n\u001B[32m     75\u001B[39m \u001B[38;5;28;01mif\u001B[39;00m features \u001B[38;5;129;01mis\u001B[39;00m \u001B[38;5;28;01mNone\u001B[39;00m \u001B[38;5;129;01mor\u001B[39;00m \u001B[33m\"\u001B[39m\u001B[33mblink_interval_dist\u001B[39m\u001B[33m\"\u001B[39m \u001B[38;5;129;01min\u001B[39;00m features:\n\u001B[32m     76\u001B[39m     \u001B[38;5;28;01mif\u001B[39;00m raw_segments \u001B[38;5;129;01mis\u001B[39;00m \u001B[38;5;28;01mNone\u001B[39;00m:\n\u001B[32m---> \u001B[39m\u001B[32m77\u001B[39m         \u001B[38;5;28;01mraise\u001B[39;00m \u001B[38;5;167;01mValueError\u001B[39;00m(\n\u001B[32m     78\u001B[39m             \u001B[33m\"\u001B[39m\u001B[33mraw_segments must be provided when blink_interval_dist is requested\u001B[39m\u001B[33m\"\u001B[39m\n\u001B[32m     79\u001B[39m         )\n\u001B[32m     80\u001B[39m     df_interval = aggregate_blink_interval_distribution(raw_segments, blink_label=\u001B[38;5;28;01mNone\u001B[39;00m)\n\u001B[32m     81\u001B[39m     df_events = pd.concat([df_events, df_interval], axis=\u001B[32m1\u001B[39m)\n",
      "\u001B[31mValueError\u001B[39m: raw_segments must be provided when blink_interval_dist is requested"
     ]
    }
   ],
   "execution_count": 6
  }
 ],
 "metadata": {
  "kernelspec": {
   "display_name": "Python 3",
   "language": "python",
   "name": "python3"
  },
  "language_info": {
   "name": "python",
   "version": "3.12"
  }
 },
 "nbformat": 4,
 "nbformat_minor": 5
}
