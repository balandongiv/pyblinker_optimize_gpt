{
 "cells": [
  {
   "cell_type": "markdown",
   "id": "90446213",
   "metadata": {},
   "source": [
    "# Blink Feature Extraction Tutorial\n",
    "\n",
    "This tutorial demonstrates how to analyze a long continuous EAR/EOG recording and compute blink features every 30 seconds using the `pyear` package.\n",
    "\n",
    "We use the sample `ear_eog.fif` file that accompanies the unit tests."
   ]
  },
  {
   "cell_type": "code",
   "id": "b3a22516",
   "metadata": {
    "ExecuteTime": {
     "end_time": "2025-07-10T05:58:16.158174Z",
     "start_time": "2025-07-10T05:58:16.154662Z"
    }
   },
   "source": [
    "from pathlib import Path\n",
    "\n",
    "import mne\n",
    "import pandas as pd\n",
    "from tqdm import tqdm\n",
    "\n",
    "from pyblinkers.pipeline import extract_features"
   ],
   "outputs": [],
   "execution_count": 3
  },
  {
   "cell_type": "markdown",
   "id": "8cc1bc52",
   "metadata": {},
   "source": [
    "## 1. Load the raw recording"
   ]
  },
  {
   "metadata": {
    "ExecuteTime": {
     "end_time": "2025-07-10T05:58:19.164307Z",
     "start_time": "2025-07-10T05:58:19.138960Z"
    }
   },
   "cell_type": "code",
   "source": [
    "fif_path = Path(\"../unit_test/features/ear_eog_raw.fif\")\n",
    "raw = mne.io.read_raw_fif(fif_path, preload=True)\n",
    "print(f\"Sampling rate: {raw.info[\"sfreq\"]} Hz\")"
   ],
   "id": "4c94f2d6b41aaada",
   "outputs": [
    {
     "name": "stdout",
     "output_type": "stream",
     "text": [
      "Opening raw data file ..\\unit_test\\features\\ear_eog_raw.fif...\n",
      "    Reading extended channel information\n",
      "    Range : 0 ... 179822 =      0.000 ...  1798.220 secs\n",
      "Ready.\n",
      "Reading 0 ... 179822  =      0.000 ...  1798.220 secs...\n",
      "Sampling rate: 100.0 Hz\n"
     ]
    }
   ],
   "execution_count": 4
  },
  {
   "cell_type": "markdown",
   "id": "8d7ca16a",
   "metadata": {},
   "source": [
    "## 2. Slice the continuous signal into 30-second segments"
   ]
  },
  {
   "cell_type": "code",
   "id": "3eccc093",
   "metadata": {
    "ExecuteTime": {
     "end_time": "2025-07-10T05:58:22.708188Z",
     "start_time": "2025-07-10T05:58:21.894867Z"
    }
   },
   "source": [
    "sfreq = raw.info[\"sfreq\"]\n",
    "epoch_len = 30.0\n",
    "end_time = raw.times[-1]\n",
    "n_epochs = int(end_time // epoch_len)\n",
    "segments = []\n",
    "for idx in tqdm(range(n_epochs), desc=\"Creating segments\"):\n",
    "    start = idx * epoch_len\n",
    "    stop = start + epoch_len\n",
    "    segment = raw.copy().crop(tmin=start, tmax=stop, include_tmax=False)\n",
    "    shifted = mne.Annotations(segment.annotations.onset - start,\n",
    "                              segment.annotations.duration,\n",
    "                              segment.annotations.description)\n",
    "    segment.set_annotations(shifted)\n",
    "    segments.append(segment)"
   ],
   "outputs": [
    {
     "name": "stderr",
     "output_type": "stream",
     "text": [
      "Creating segments: 100%|██████████| 59/59 [00:00<00:00, 73.51it/s]\n"
     ]
    }
   ],
   "execution_count": 5
  },
  {
   "cell_type": "markdown",
   "id": "ccfa6083",
   "metadata": {},
   "source": [
    "## 3. Convert annotations to blink dictionaries"
   ]
  },
  {
   "cell_type": "code",
   "id": "4b883231",
   "metadata": {
    "ExecuteTime": {
     "end_time": "2025-07-10T05:58:24.623339Z",
     "start_time": "2025-07-10T05:58:24.616160Z"
    }
   },
   "source": [
    "blinks = []\n",
    "for idx, segment in enumerate(segments):\n",
    "    signal = segment.get_data(picks=\"EAR-avg_ear\")[0]\n",
    "    ann = segment.annotations\n",
    "    for onset, dur, desc in zip(ann.onset, ann.duration, ann.description):\n",
    "        if desc != \"blink\":\n",
    "            continue\n",
    "        start_frame = int(onset * sfreq)\n",
    "        end_frame = int((onset + dur) * sfreq)\n",
    "        blinks.append({\n",
    "            \"refined_start_frame\": start_frame,\n",
    "            \"refined_peak_frame\": (start_frame + end_frame) // 2,\n",
    "            \"refined_end_frame\": end_frame,\n",
    "            \"epoch_signal\": signal,\n",
    "            \"epoch_index\": idx,\n",
    "        })"
   ],
   "outputs": [],
   "execution_count": 6
  },
  {
   "cell_type": "markdown",
   "id": "0c8eb910",
   "metadata": {},
   "source": [
    "## 4. Compute features for each segment"
   ]
  },
  {
   "cell_type": "code",
   "id": "1392bfc5",
   "metadata": {
    "ExecuteTime": {
     "end_time": "2025-07-10T05:58:27.713936Z",
     "start_time": "2025-07-10T05:58:27.670692Z"
    }
   },
   "source": [
    "df = extract_features(blinks, sfreq, epoch_len, n_epochs, raw_segments=segments)\n",
    "df.head()"
   ],
   "outputs": [
    {
     "data": {
      "text/plain": [
       "       blink_count  blink_rate  ibi_mean  ibi_std  ibi_median  ibi_min  \\\n",
       "epoch                                                                    \n",
       "0                0         0.0       NaN      NaN         NaN      NaN   \n",
       "1                0         0.0       NaN      NaN         NaN      NaN   \n",
       "2                0         0.0       NaN      NaN         NaN      NaN   \n",
       "3                0         0.0       NaN      NaN         NaN      NaN   \n",
       "4                0         0.0       NaN      NaN         NaN      NaN   \n",
       "\n",
       "       ibi_max  ibi_cv  ibi_rmssd  poincare_sd1  ...  \\\n",
       "epoch                                            ...   \n",
       "0          NaN     NaN        NaN           NaN  ...   \n",
       "1          NaN     NaN        NaN           NaN  ...   \n",
       "2          NaN     NaN        NaN           NaN  ...   \n",
       "3          NaN     NaN        NaN           NaN  ...   \n",
       "4          NaN     NaN        NaN           NaN  ...   \n",
       "\n",
       "       blink_half_area_time_std  blink_half_area_time_cv  \\\n",
       "epoch                                                      \n",
       "0                           NaN                      NaN   \n",
       "1                           NaN                      NaN   \n",
       "2                           NaN                      NaN   \n",
       "3                           NaN                      NaN   \n",
       "4                           NaN                      NaN   \n",
       "\n",
       "       blink_asymmetry_mean  blink_asymmetry_std  \\\n",
       "epoch                                              \n",
       "0                       NaN                  NaN   \n",
       "1                       NaN                  NaN   \n",
       "2                       NaN                  NaN   \n",
       "3                       NaN                  NaN   \n",
       "4                       NaN                  NaN   \n",
       "\n",
       "       blink_waveform_skewness_mean  blink_waveform_skewness_std  \\\n",
       "epoch                                                              \n",
       "0                               NaN                          NaN   \n",
       "1                               NaN                          NaN   \n",
       "2                               NaN                          NaN   \n",
       "3                               NaN                          NaN   \n",
       "4                               NaN                          NaN   \n",
       "\n",
       "       blink_waveform_kurtosis_mean  blink_waveform_kurtosis_std  \\\n",
       "epoch                                                              \n",
       "0                               NaN                          NaN   \n",
       "1                               NaN                          NaN   \n",
       "2                               NaN                          NaN   \n",
       "3                               NaN                          NaN   \n",
       "4                               NaN                          NaN   \n",
       "\n",
       "       blink_inflection_count_mean  blink_inflection_count_std  \n",
       "epoch                                                           \n",
       "0                              NaN                         NaN  \n",
       "1                              NaN                         NaN  \n",
       "2                              NaN                         NaN  \n",
       "3                              NaN                         NaN  \n",
       "4                              NaN                         NaN  \n",
       "\n",
       "[5 rows x 117 columns]"
      ],
      "text/html": [
       "<div>\n",
       "<style scoped>\n",
       "    .dataframe tbody tr th:only-of-type {\n",
       "        vertical-align: middle;\n",
       "    }\n",
       "\n",
       "    .dataframe tbody tr th {\n",
       "        vertical-align: top;\n",
       "    }\n",
       "\n",
       "    .dataframe thead th {\n",
       "        text-align: right;\n",
       "    }\n",
       "</style>\n",
       "<table border=\"1\" class=\"dataframe\">\n",
       "  <thead>\n",
       "    <tr style=\"text-align: right;\">\n",
       "      <th></th>\n",
       "      <th>blink_count</th>\n",
       "      <th>blink_rate</th>\n",
       "      <th>ibi_mean</th>\n",
       "      <th>ibi_std</th>\n",
       "      <th>ibi_median</th>\n",
       "      <th>ibi_min</th>\n",
       "      <th>ibi_max</th>\n",
       "      <th>ibi_cv</th>\n",
       "      <th>ibi_rmssd</th>\n",
       "      <th>poincare_sd1</th>\n",
       "      <th>...</th>\n",
       "      <th>blink_half_area_time_std</th>\n",
       "      <th>blink_half_area_time_cv</th>\n",
       "      <th>blink_asymmetry_mean</th>\n",
       "      <th>blink_asymmetry_std</th>\n",
       "      <th>blink_waveform_skewness_mean</th>\n",
       "      <th>blink_waveform_skewness_std</th>\n",
       "      <th>blink_waveform_kurtosis_mean</th>\n",
       "      <th>blink_waveform_kurtosis_std</th>\n",
       "      <th>blink_inflection_count_mean</th>\n",
       "      <th>blink_inflection_count_std</th>\n",
       "    </tr>\n",
       "    <tr>\n",
       "      <th>epoch</th>\n",
       "      <th></th>\n",
       "      <th></th>\n",
       "      <th></th>\n",
       "      <th></th>\n",
       "      <th></th>\n",
       "      <th></th>\n",
       "      <th></th>\n",
       "      <th></th>\n",
       "      <th></th>\n",
       "      <th></th>\n",
       "      <th></th>\n",
       "      <th></th>\n",
       "      <th></th>\n",
       "      <th></th>\n",
       "      <th></th>\n",
       "      <th></th>\n",
       "      <th></th>\n",
       "      <th></th>\n",
       "      <th></th>\n",
       "      <th></th>\n",
       "      <th></th>\n",
       "    </tr>\n",
       "  </thead>\n",
       "  <tbody>\n",
       "    <tr>\n",
       "      <th>0</th>\n",
       "      <td>0</td>\n",
       "      <td>0.0</td>\n",
       "      <td>NaN</td>\n",
       "      <td>NaN</td>\n",
       "      <td>NaN</td>\n",
       "      <td>NaN</td>\n",
       "      <td>NaN</td>\n",
       "      <td>NaN</td>\n",
       "      <td>NaN</td>\n",
       "      <td>NaN</td>\n",
       "      <td>...</td>\n",
       "      <td>NaN</td>\n",
       "      <td>NaN</td>\n",
       "      <td>NaN</td>\n",
       "      <td>NaN</td>\n",
       "      <td>NaN</td>\n",
       "      <td>NaN</td>\n",
       "      <td>NaN</td>\n",
       "      <td>NaN</td>\n",
       "      <td>NaN</td>\n",
       "      <td>NaN</td>\n",
       "    </tr>\n",
       "    <tr>\n",
       "      <th>1</th>\n",
       "      <td>0</td>\n",
       "      <td>0.0</td>\n",
       "      <td>NaN</td>\n",
       "      <td>NaN</td>\n",
       "      <td>NaN</td>\n",
       "      <td>NaN</td>\n",
       "      <td>NaN</td>\n",
       "      <td>NaN</td>\n",
       "      <td>NaN</td>\n",
       "      <td>NaN</td>\n",
       "      <td>...</td>\n",
       "      <td>NaN</td>\n",
       "      <td>NaN</td>\n",
       "      <td>NaN</td>\n",
       "      <td>NaN</td>\n",
       "      <td>NaN</td>\n",
       "      <td>NaN</td>\n",
       "      <td>NaN</td>\n",
       "      <td>NaN</td>\n",
       "      <td>NaN</td>\n",
       "      <td>NaN</td>\n",
       "    </tr>\n",
       "    <tr>\n",
       "      <th>2</th>\n",
       "      <td>0</td>\n",
       "      <td>0.0</td>\n",
       "      <td>NaN</td>\n",
       "      <td>NaN</td>\n",
       "      <td>NaN</td>\n",
       "      <td>NaN</td>\n",
       "      <td>NaN</td>\n",
       "      <td>NaN</td>\n",
       "      <td>NaN</td>\n",
       "      <td>NaN</td>\n",
       "      <td>...</td>\n",
       "      <td>NaN</td>\n",
       "      <td>NaN</td>\n",
       "      <td>NaN</td>\n",
       "      <td>NaN</td>\n",
       "      <td>NaN</td>\n",
       "      <td>NaN</td>\n",
       "      <td>NaN</td>\n",
       "      <td>NaN</td>\n",
       "      <td>NaN</td>\n",
       "      <td>NaN</td>\n",
       "    </tr>\n",
       "    <tr>\n",
       "      <th>3</th>\n",
       "      <td>0</td>\n",
       "      <td>0.0</td>\n",
       "      <td>NaN</td>\n",
       "      <td>NaN</td>\n",
       "      <td>NaN</td>\n",
       "      <td>NaN</td>\n",
       "      <td>NaN</td>\n",
       "      <td>NaN</td>\n",
       "      <td>NaN</td>\n",
       "      <td>NaN</td>\n",
       "      <td>...</td>\n",
       "      <td>NaN</td>\n",
       "      <td>NaN</td>\n",
       "      <td>NaN</td>\n",
       "      <td>NaN</td>\n",
       "      <td>NaN</td>\n",
       "      <td>NaN</td>\n",
       "      <td>NaN</td>\n",
       "      <td>NaN</td>\n",
       "      <td>NaN</td>\n",
       "      <td>NaN</td>\n",
       "    </tr>\n",
       "    <tr>\n",
       "      <th>4</th>\n",
       "      <td>0</td>\n",
       "      <td>0.0</td>\n",
       "      <td>NaN</td>\n",
       "      <td>NaN</td>\n",
       "      <td>NaN</td>\n",
       "      <td>NaN</td>\n",
       "      <td>NaN</td>\n",
       "      <td>NaN</td>\n",
       "      <td>NaN</td>\n",
       "      <td>NaN</td>\n",
       "      <td>...</td>\n",
       "      <td>NaN</td>\n",
       "      <td>NaN</td>\n",
       "      <td>NaN</td>\n",
       "      <td>NaN</td>\n",
       "      <td>NaN</td>\n",
       "      <td>NaN</td>\n",
       "      <td>NaN</td>\n",
       "      <td>NaN</td>\n",
       "      <td>NaN</td>\n",
       "      <td>NaN</td>\n",
       "    </tr>\n",
       "  </tbody>\n",
       "</table>\n",
       "<p>5 rows × 117 columns</p>\n",
       "</div>"
      ]
     },
     "execution_count": 7,
     "metadata": {},
     "output_type": "execute_result"
    }
   ],
   "execution_count": 7
  },
  {
   "cell_type": "markdown",
   "id": "bb9644b8",
   "metadata": {},
   "source": [
    "The resulting DataFrame contains blink counts, kinematic metrics and other aggregated statistics for each 30-second epoch."
   ]
  }
 ],
 "metadata": {},
 "nbformat": 4,
 "nbformat_minor": 5
}
